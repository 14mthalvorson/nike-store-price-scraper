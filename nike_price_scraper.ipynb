{
 "cells": [
  {
   "cell_type": "code",
   "execution_count": 1,
   "metadata": {},
   "outputs": [],
   "source": [
    "import requests\n",
    "import re\n",
    "from os.path import exists\n",
    "from datetime import datetime\n",
    "import matplotlib.pyplot as plt\n",
    "import matplotlib.dates as mdates\n",
    "\n",
    "\n",
    "urls = {\n",
    "    \"Nike Air Force 1 '07\": \"https://www.nike.com/t/air-force-1-07-mens-shoes-5QFp5Z/CW2288-001\",\n",
    "}\n",
    "\n",
    "date = datetime.today().strftime('%Y-%m-%d')\n",
    "\n",
    "# File where prices will be saved\n",
    "save_file = \"nike_historical_prices.txt\""
   ]
  },
  {
   "cell_type": "code",
   "execution_count": 5,
   "metadata": {},
   "outputs": [
    {
     "name": "stdout",
     "output_type": "stream",
     "text": [
      "Nike Air Force 1 '07: 90.0\n"
     ]
    }
   ],
   "source": [
    "# Collect daily price data\n",
    "\n",
    "for item_name in urls.keys():\n",
    "    \n",
    "    # Retrieve URL from dictionary\n",
    "    url = urls.get(item_name)\n",
    "    \n",
    "    # Get HTML from URL\n",
    "    html_doc = requests.get(url).text\n",
    "    \n",
    "    # Search the HTML page for the price using regex\n",
    "    result = re.search('price:amount\" content=\"[0-9]+\"', html_doc).group(0)\n",
    "    \n",
    "    # Trim the regex result to just the price and cast to float\n",
    "    price = float(result[23:-1])\n",
    "\n",
    "    print(item_name + \": \" + str(price))\n",
    "    \n",
    "    # Check if file exists, open, and read contents\n",
    "    if exists(save_file):\n",
    "        f = open(save_file, \"r+\")\n",
    "        historical_prices = dict(eval(f.read()))\n",
    "    else:\n",
    "        f = open(save_file, \"w+\")\n",
    "        historical_prices = {}\n",
    "\n",
    "    # Data is stored as a dictionary of dictionaries in the form of item_name: date: price\n",
    "    price_data = historical_prices.get(item_name, {})\n",
    "    price_data[date] = price\n",
    "    historical_prices[item_name] = price_data\n",
    "\n",
    "    f.seek(0)\n",
    "    f.write(str(historical_prices))\n",
    "    f.close()"
   ]
  },
  {
   "cell_type": "code",
   "execution_count": 4,
   "metadata": {},
   "outputs": [
    {
     "data": {
      "image/png": "[encoded data removed]",
      "text/plain": [
       "<Figure size 432x288 with 1 Axes>"
      ]
     },
     "metadata": {
      "needs_background": "light"
     },
     "output_type": "display_data"
    }
   ],
   "source": [
    "# Display historical price data on graph\n",
    "\n",
    "for item_name in urls.keys():\n",
    "    \n",
    "    # Chart historical prices\n",
    "    price_tuples = list(historical_prices[item_name].items())\n",
    "\n",
    "    # Convert datetime objects to Matplotlib dates\n",
    "    # More info - https://matplotlib.org/stable/api/dates_api.html#matplotlib.dates.date2num\n",
    "    price_tuples = [(mdates.datestr2num(x[0]), x[1]) for x in price_tuples]\n",
    "\n",
    "    plt.gca().xaxis.set_major_formatter(mdates.DateFormatter('%m/%d/%Y'))\n",
    "    plt.gca().xaxis.set_major_locator(mdates.DayLocator())\n",
    "    plt.plot(*zip(*price_tuples))\n",
    "    plt.title(\"\\\"\" + item_name + \"\\\" Historical Prices\")\n",
    "    plt.xlabel(\"Date\")\n",
    "    plt.ylabel(\"Price\")\n",
    "    plt.gcf().autofmt_xdate()\n",
    "    plt.show()"
   ]
  },
  {
   "cell_type": "code",
   "execution_count": null,
   "metadata": {},
   "outputs": [],
   "source": []
  },
  {
   "cell_type": "code",
   "execution_count": null,
   "metadata": {},
   "outputs": [],
   "source": []
  }
 ],
 "metadata": {
  "kernelspec": {
   "display_name": "Python 3",
   "language": "python",
   "name": "python3"
  },
  "language_info": {
   "codemirror_mode": {
    "name": "ipython",
    "version": 3
   },
   "file_extension": ".py",
   "mimetype": "text/x-python",
   "name": "python",
   "nbconvert_exporter": "python",
   "pygments_lexer": "ipython3",
   "version": "3.7.1"
  }
 },
 "nbformat": 4,
 "nbformat_minor": 2
}
